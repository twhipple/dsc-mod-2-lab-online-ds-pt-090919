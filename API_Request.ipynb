{
 "cells": [
  {
   "cell_type": "code",
   "execution_count": 208,
   "metadata": {},
   "outputs": [],
   "source": [
    "# Import sqlite3, load connection and cursor\n",
    "import sqlite3 \n",
    "conn = sqlite3.connect('database.sqlite')\n",
    "cur = conn.cursor()"
   ]
  },
  {
   "cell_type": "code",
   "execution_count": 209,
   "metadata": {},
   "outputs": [
    {
     "name": "stdout",
     "output_type": "stream",
     "text": [
      "992\n"
     ]
    },
    {
     "data": {
      "text/html": [
       "<div>\n",
       "<style scoped>\n",
       "    .dataframe tbody tr th:only-of-type {\n",
       "        vertical-align: middle;\n",
       "    }\n",
       "\n",
       "    .dataframe tbody tr th {\n",
       "        vertical-align: top;\n",
       "    }\n",
       "\n",
       "    .dataframe thead th {\n",
       "        text-align: right;\n",
       "    }\n",
       "</style>\n",
       "<table border=\"1\" class=\"dataframe\">\n",
       "  <thead>\n",
       "    <tr style=\"text-align: right;\">\n",
       "      <th></th>\n",
       "      <th>Date</th>\n",
       "      <th>HomeTeam</th>\n",
       "      <th>AwayTeam</th>\n",
       "      <th>FTR</th>\n",
       "    </tr>\n",
       "  </thead>\n",
       "  <tbody>\n",
       "    <tr>\n",
       "      <th>0</th>\n",
       "      <td>2012-03-31</td>\n",
       "      <td>Nurnberg</td>\n",
       "      <td>Bayern Munich</td>\n",
       "      <td>A</td>\n",
       "    </tr>\n",
       "    <tr>\n",
       "      <th>1</th>\n",
       "      <td>2011-12-11</td>\n",
       "      <td>Stuttgart</td>\n",
       "      <td>Bayern Munich</td>\n",
       "      <td>A</td>\n",
       "    </tr>\n",
       "    <tr>\n",
       "      <th>2</th>\n",
       "      <td>2011-08-13</td>\n",
       "      <td>Wolfsburg</td>\n",
       "      <td>Bayern Munich</td>\n",
       "      <td>A</td>\n",
       "    </tr>\n",
       "    <tr>\n",
       "      <th>3</th>\n",
       "      <td>2011-11-27</td>\n",
       "      <td>Mainz</td>\n",
       "      <td>Bayern Munich</td>\n",
       "      <td>H</td>\n",
       "    </tr>\n",
       "    <tr>\n",
       "      <th>4</th>\n",
       "      <td>2012-02-18</td>\n",
       "      <td>Freiburg</td>\n",
       "      <td>Bayern Munich</td>\n",
       "      <td>D</td>\n",
       "    </tr>\n",
       "  </tbody>\n",
       "</table>\n",
       "</div>"
      ],
      "text/plain": [
       "         Date   HomeTeam       AwayTeam FTR\n",
       "0  2012-03-31   Nurnberg  Bayern Munich   A\n",
       "1  2011-12-11  Stuttgart  Bayern Munich   A\n",
       "2  2011-08-13  Wolfsburg  Bayern Munich   A\n",
       "3  2011-11-27      Mainz  Bayern Munich   H\n",
       "4  2012-02-18   Freiburg  Bayern Munich   D"
      ]
     },
     "execution_count": 209,
     "metadata": {},
     "output_type": "execute_result"
    }
   ],
   "source": [
    "# Try to join some of the tables\n",
    "cur.execute(\"\"\"SELECT Date, HomeTeam, AwayTeam, FTR  \n",
    "               FROM Teams_in_Matches\n",
    "               JOIN Unique_Teams\n",
    "               USING(Unique_Team_ID)\n",
    "               JOIN Matches\n",
    "               USING(Match_ID)\n",
    "               WHERE Season = 2011\n",
    "               GROUP BY Match_ID\n",
    "               ;\"\"\")\n",
    "import pandas as pd\n",
    "df = pd.DataFrame(cur.fetchall())\n",
    "df.columns = [x[0] for x in cur.description]\n",
    "print(len(df))\n",
    "df.head()"
   ]
  },
  {
   "cell_type": "code",
   "execution_count": 211,
   "metadata": {},
   "outputs": [
    {
     "data": {
      "text/plain": [
       "'2012-03-31'"
      ]
     },
     "execution_count": 211,
     "metadata": {},
     "output_type": "execute_result"
    }
   ],
   "source": [
    "df.Date[0]"
   ]
  },
  {
   "cell_type": "code",
   "execution_count": 222,
   "metadata": {},
   "outputs": [
    {
     "ename": "ValueError",
     "evalue": "time data '2012-03-31' does not match format '%Y/%m/%d'",
     "output_type": "error",
     "traceback": [
      "\u001b[0;31m---------------------------------------------------------------------------\u001b[0m",
      "\u001b[0;31mValueError\u001b[0m                                Traceback (most recent call last)",
      "\u001b[0;32m<ipython-input-222-bfd85c0eefea>\u001b[0m in \u001b[0;36m<module>\u001b[0;34m\u001b[0m\n\u001b[1;32m      2\u001b[0m \u001b[0;32mimport\u001b[0m \u001b[0mdatetime\u001b[0m\u001b[0;34m\u001b[0m\u001b[0;34m\u001b[0m\u001b[0m\n\u001b[1;32m      3\u001b[0m \u001b[0;32mfor\u001b[0m \u001b[0mdates\u001b[0m \u001b[0;32min\u001b[0m \u001b[0mdf\u001b[0m\u001b[0;34m.\u001b[0m\u001b[0mDate\u001b[0m\u001b[0;34m:\u001b[0m\u001b[0;34m\u001b[0m\u001b[0;34m\u001b[0m\u001b[0m\n\u001b[0;32m----> 4\u001b[0;31m     \u001b[0mdf\u001b[0m\u001b[0;34m.\u001b[0m\u001b[0mNew_Date\u001b[0m \u001b[0;34m=\u001b[0m \u001b[0mdatetime\u001b[0m\u001b[0;34m.\u001b[0m\u001b[0mdatetime\u001b[0m\u001b[0;34m.\u001b[0m\u001b[0mstrptime\u001b[0m\u001b[0;34m(\u001b[0m\u001b[0mdates\u001b[0m\u001b[0;34m,\u001b[0m \u001b[0;34m\"%Y/%m/%d\"\u001b[0m\u001b[0;34m)\u001b[0m\u001b[0;34m.\u001b[0m\u001b[0mtimestamp\u001b[0m\u001b[0;34m(\u001b[0m\u001b[0;34m)\u001b[0m\u001b[0;34m\u001b[0m\u001b[0;34m\u001b[0m\u001b[0m\n\u001b[0m",
      "\u001b[0;32m//anaconda3/lib/python3.7/_strptime.py\u001b[0m in \u001b[0;36m_strptime_datetime\u001b[0;34m(cls, data_string, format)\u001b[0m\n\u001b[1;32m    575\u001b[0m     \"\"\"Return a class cls instance based on the input string and the\n\u001b[1;32m    576\u001b[0m     format string.\"\"\"\n\u001b[0;32m--> 577\u001b[0;31m     \u001b[0mtt\u001b[0m\u001b[0;34m,\u001b[0m \u001b[0mfraction\u001b[0m\u001b[0;34m,\u001b[0m \u001b[0mgmtoff_fraction\u001b[0m \u001b[0;34m=\u001b[0m \u001b[0m_strptime\u001b[0m\u001b[0;34m(\u001b[0m\u001b[0mdata_string\u001b[0m\u001b[0;34m,\u001b[0m \u001b[0mformat\u001b[0m\u001b[0;34m)\u001b[0m\u001b[0;34m\u001b[0m\u001b[0;34m\u001b[0m\u001b[0m\n\u001b[0m\u001b[1;32m    578\u001b[0m     \u001b[0mtzname\u001b[0m\u001b[0;34m,\u001b[0m \u001b[0mgmtoff\u001b[0m \u001b[0;34m=\u001b[0m \u001b[0mtt\u001b[0m\u001b[0;34m[\u001b[0m\u001b[0;34m-\u001b[0m\u001b[0;36m2\u001b[0m\u001b[0;34m:\u001b[0m\u001b[0;34m]\u001b[0m\u001b[0;34m\u001b[0m\u001b[0;34m\u001b[0m\u001b[0m\n\u001b[1;32m    579\u001b[0m     \u001b[0margs\u001b[0m \u001b[0;34m=\u001b[0m \u001b[0mtt\u001b[0m\u001b[0;34m[\u001b[0m\u001b[0;34m:\u001b[0m\u001b[0;36m6\u001b[0m\u001b[0;34m]\u001b[0m \u001b[0;34m+\u001b[0m \u001b[0;34m(\u001b[0m\u001b[0mfraction\u001b[0m\u001b[0;34m,\u001b[0m\u001b[0;34m)\u001b[0m\u001b[0;34m\u001b[0m\u001b[0;34m\u001b[0m\u001b[0m\n",
      "\u001b[0;32m//anaconda3/lib/python3.7/_strptime.py\u001b[0m in \u001b[0;36m_strptime\u001b[0;34m(data_string, format)\u001b[0m\n\u001b[1;32m    357\u001b[0m     \u001b[0;32mif\u001b[0m \u001b[0;32mnot\u001b[0m \u001b[0mfound\u001b[0m\u001b[0;34m:\u001b[0m\u001b[0;34m\u001b[0m\u001b[0;34m\u001b[0m\u001b[0m\n\u001b[1;32m    358\u001b[0m         raise ValueError(\"time data %r does not match format %r\" %\n\u001b[0;32m--> 359\u001b[0;31m                          (data_string, format))\n\u001b[0m\u001b[1;32m    360\u001b[0m     \u001b[0;32mif\u001b[0m \u001b[0mlen\u001b[0m\u001b[0;34m(\u001b[0m\u001b[0mdata_string\u001b[0m\u001b[0;34m)\u001b[0m \u001b[0;34m!=\u001b[0m \u001b[0mfound\u001b[0m\u001b[0;34m.\u001b[0m\u001b[0mend\u001b[0m\u001b[0;34m(\u001b[0m\u001b[0;34m)\u001b[0m\u001b[0;34m:\u001b[0m\u001b[0;34m\u001b[0m\u001b[0;34m\u001b[0m\u001b[0m\n\u001b[1;32m    361\u001b[0m         raise ValueError(\"unconverted data remains: %s\" %\n",
      "\u001b[0;31mValueError\u001b[0m: time data '2012-03-31' does not match format '%Y/%m/%d'"
     ]
    }
   ],
   "source": [
    "import time\n",
    "import datetime\n",
    "for dates in df.Date:\n",
    "    df.New_Date = datetime.datetime.strptime(dates, \"%Y/%m/%d\").timestamp()"
   ]
  },
  {
   "cell_type": "code",
   "execution_count": 221,
   "metadata": {},
   "outputs": [
    {
     "data": {
      "text/plain": [
       "1294808400.0"
      ]
     },
     "execution_count": 221,
     "metadata": {},
     "output_type": "execute_result"
    }
   ],
   "source": [
    "df.New_Date"
   ]
  },
  {
   "cell_type": "code",
   "execution_count": 216,
   "metadata": {},
   "outputs": [
    {
     "ename": "AssertionError",
     "evalue": "",
     "output_type": "error",
     "traceback": [
      "\u001b[0;31m---------------------------------------------------------------------------\u001b[0m",
      "\u001b[0;31mAssertionError\u001b[0m                            Traceback (most recent call last)",
      "\u001b[0;32m<ipython-input-216-79627c55b231>\u001b[0m in \u001b[0;36m<module>\u001b[0;34m\u001b[0m\n\u001b[1;32m      3\u001b[0m \u001b[0;32mimport\u001b[0m \u001b[0mpandas\u001b[0m \u001b[0;32mas\u001b[0m \u001b[0mpd\u001b[0m\u001b[0;34m\u001b[0m\u001b[0;34m\u001b[0m\u001b[0m\n\u001b[1;32m      4\u001b[0m \u001b[0;32mfor\u001b[0m \u001b[0mdates\u001b[0m \u001b[0;32min\u001b[0m \u001b[0mdf\u001b[0m\u001b[0;34m.\u001b[0m\u001b[0mDate\u001b[0m\u001b[0;34m:\u001b[0m\u001b[0;34m\u001b[0m\u001b[0;34m\u001b[0m\u001b[0m\n\u001b[0;32m----> 5\u001b[0;31m     \u001b[0mdf\u001b[0m\u001b[0;34m.\u001b[0m\u001b[0mDate\u001b[0m \u001b[0;34m=\u001b[0m \u001b[0mpd\u001b[0m\u001b[0;34m.\u001b[0m\u001b[0mto_datetime\u001b[0m\u001b[0;34m(\u001b[0m\u001b[0mdates\u001b[0m\u001b[0;34m,\u001b[0m \u001b[0;34m\"%Y/%m/%d\"\u001b[0m\u001b[0;34m)\u001b[0m\u001b[0;34m.\u001b[0m\u001b[0mtimestamp\u001b[0m\u001b[0;34m(\u001b[0m\u001b[0;34m)\u001b[0m\u001b[0;34m\u001b[0m\u001b[0;34m\u001b[0m\u001b[0m\n\u001b[0m",
      "\u001b[0;32m//anaconda3/lib/python3.7/site-packages/pandas/core/tools/datetimes.py\u001b[0m in \u001b[0;36mto_datetime\u001b[0;34m(arg, errors, dayfirst, yearfirst, utc, box, format, exact, unit, infer_datetime_format, origin, cache)\u001b[0m\n\u001b[1;32m    609\u001b[0m             \u001b[0mresult\u001b[0m \u001b[0;34m=\u001b[0m \u001b[0mconvert_listlike\u001b[0m\u001b[0;34m(\u001b[0m\u001b[0marg\u001b[0m\u001b[0;34m,\u001b[0m \u001b[0mbox\u001b[0m\u001b[0;34m,\u001b[0m \u001b[0mformat\u001b[0m\u001b[0;34m)\u001b[0m\u001b[0;34m\u001b[0m\u001b[0;34m\u001b[0m\u001b[0m\n\u001b[1;32m    610\u001b[0m     \u001b[0;32melse\u001b[0m\u001b[0;34m:\u001b[0m\u001b[0;34m\u001b[0m\u001b[0;34m\u001b[0m\u001b[0m\n\u001b[0;32m--> 611\u001b[0;31m         \u001b[0mresult\u001b[0m \u001b[0;34m=\u001b[0m \u001b[0mconvert_listlike\u001b[0m\u001b[0;34m(\u001b[0m\u001b[0mnp\u001b[0m\u001b[0;34m.\u001b[0m\u001b[0marray\u001b[0m\u001b[0;34m(\u001b[0m\u001b[0;34m[\u001b[0m\u001b[0marg\u001b[0m\u001b[0;34m]\u001b[0m\u001b[0;34m)\u001b[0m\u001b[0;34m,\u001b[0m \u001b[0mbox\u001b[0m\u001b[0;34m,\u001b[0m \u001b[0mformat\u001b[0m\u001b[0;34m)\u001b[0m\u001b[0;34m[\u001b[0m\u001b[0;36m0\u001b[0m\u001b[0;34m]\u001b[0m\u001b[0;34m\u001b[0m\u001b[0;34m\u001b[0m\u001b[0m\n\u001b[0m\u001b[1;32m    612\u001b[0m \u001b[0;34m\u001b[0m\u001b[0m\n\u001b[1;32m    613\u001b[0m     \u001b[0;32mreturn\u001b[0m \u001b[0mresult\u001b[0m\u001b[0;34m\u001b[0m\u001b[0;34m\u001b[0m\u001b[0m\n",
      "\u001b[0;32m//anaconda3/lib/python3.7/site-packages/pandas/core/tools/datetimes.py\u001b[0m in \u001b[0;36m_convert_listlike_datetimes\u001b[0;34m(arg, box, format, name, tz, unit, errors, infer_datetime_format, dayfirst, yearfirst, exact)\u001b[0m\n\u001b[1;32m    300\u001b[0m             \u001b[0marg\u001b[0m\u001b[0;34m,\u001b[0m \u001b[0mdayfirst\u001b[0m\u001b[0;34m=\u001b[0m\u001b[0mdayfirst\u001b[0m\u001b[0;34m,\u001b[0m \u001b[0myearfirst\u001b[0m\u001b[0;34m=\u001b[0m\u001b[0myearfirst\u001b[0m\u001b[0;34m,\u001b[0m\u001b[0;34m\u001b[0m\u001b[0;34m\u001b[0m\u001b[0m\n\u001b[1;32m    301\u001b[0m             \u001b[0mutc\u001b[0m\u001b[0;34m=\u001b[0m\u001b[0mutc\u001b[0m\u001b[0;34m,\u001b[0m \u001b[0merrors\u001b[0m\u001b[0;34m=\u001b[0m\u001b[0merrors\u001b[0m\u001b[0;34m,\u001b[0m \u001b[0mrequire_iso8601\u001b[0m\u001b[0;34m=\u001b[0m\u001b[0mrequire_iso8601\u001b[0m\u001b[0;34m,\u001b[0m\u001b[0;34m\u001b[0m\u001b[0;34m\u001b[0m\u001b[0m\n\u001b[0;32m--> 302\u001b[0;31m             allow_object=True)\n\u001b[0m\u001b[1;32m    303\u001b[0m \u001b[0;34m\u001b[0m\u001b[0m\n\u001b[1;32m    304\u001b[0m     \u001b[0;32mif\u001b[0m \u001b[0mtz_parsed\u001b[0m \u001b[0;32mis\u001b[0m \u001b[0;32mnot\u001b[0m \u001b[0;32mNone\u001b[0m\u001b[0;34m:\u001b[0m\u001b[0;34m\u001b[0m\u001b[0;34m\u001b[0m\u001b[0m\n",
      "\u001b[0;32m//anaconda3/lib/python3.7/site-packages/pandas/core/arrays/datetimes.py\u001b[0m in \u001b[0;36mobjects_to_datetime64ns\u001b[0;34m(data, dayfirst, yearfirst, utc, errors, require_iso8601, allow_object)\u001b[0m\n\u001b[1;32m   1843\u001b[0m     \u001b[0mValueError\u001b[0m \u001b[0;34m:\u001b[0m \u001b[0;32mif\u001b[0m \u001b[0mdata\u001b[0m \u001b[0mcannot\u001b[0m \u001b[0mbe\u001b[0m \u001b[0mconverted\u001b[0m \u001b[0mto\u001b[0m \u001b[0mdatetimes\u001b[0m\u001b[0;34m\u001b[0m\u001b[0;34m\u001b[0m\u001b[0m\n\u001b[1;32m   1844\u001b[0m     \"\"\"\n\u001b[0;32m-> 1845\u001b[0;31m     \u001b[0;32massert\u001b[0m \u001b[0merrors\u001b[0m \u001b[0;32min\u001b[0m \u001b[0;34m[\u001b[0m\u001b[0;34m\"raise\"\u001b[0m\u001b[0;34m,\u001b[0m \u001b[0;34m\"ignore\"\u001b[0m\u001b[0;34m,\u001b[0m \u001b[0;34m\"coerce\"\u001b[0m\u001b[0;34m]\u001b[0m\u001b[0;34m\u001b[0m\u001b[0;34m\u001b[0m\u001b[0m\n\u001b[0m\u001b[1;32m   1846\u001b[0m \u001b[0;34m\u001b[0m\u001b[0m\n\u001b[1;32m   1847\u001b[0m     \u001b[0;31m# if str-dtype, convert\u001b[0m\u001b[0;34m\u001b[0m\u001b[0;34m\u001b[0m\u001b[0;34m\u001b[0m\u001b[0m\n",
      "\u001b[0;31mAssertionError\u001b[0m: "
     ]
    }
   ],
   "source": [
    "import time\n",
    "import datetime\n",
    "import pandas as pd\n",
    "for dates in df.Date:\n",
    "    df.Date = pd.to_datetime(dates, \"%Y/%m/%d\").timestamp()\n"
   ]
  },
  {
   "cell_type": "code",
   "execution_count": 194,
   "metadata": {},
   "outputs": [
    {
     "name": "stdout",
     "output_type": "stream",
     "text": [
      "1294808400.0\n"
     ]
    }
   ],
   "source": [
    "import datetime\n",
    "stime = \"2011/01/12\"\n",
    "print(datetime.datetime.strptime(stime, \"%Y/%m/%d\").timestamp())"
   ]
  },
  {
   "cell_type": "code",
   "execution_count": 217,
   "metadata": {},
   "outputs": [
    {
     "data": {
      "text/plain": [
       "'2012-03-31'"
      ]
     },
     "execution_count": 217,
     "metadata": {},
     "output_type": "execute_result"
    }
   ],
   "source": [
    "t1=df.Date[0]\n",
    "t1"
   ]
  },
  {
   "cell_type": "code",
   "execution_count": 175,
   "metadata": {},
   "outputs": [],
   "source": [
    "#datetime.datetime.strptime(t1, \"%Y/%m/%d\").timestamp()"
   ]
  },
  {
   "cell_type": "code",
   "execution_count": 218,
   "metadata": {},
   "outputs": [
    {
     "ename": "NameError",
     "evalue": "name 'ciso8601' is not defined",
     "output_type": "error",
     "traceback": [
      "\u001b[0;31m---------------------------------------------------------------------------\u001b[0m",
      "\u001b[0;31mNameError\u001b[0m                                 Traceback (most recent call last)",
      "\u001b[0;32m<ipython-input-218-8b49f0f466f6>\u001b[0m in \u001b[0;36m<module>\u001b[0;34m\u001b[0m\n\u001b[0;32m----> 1\u001b[0;31m \u001b[0mts\u001b[0m \u001b[0;34m=\u001b[0m \u001b[0mciso8601\u001b[0m\u001b[0;34m.\u001b[0m\u001b[0mparse_datetime\u001b[0m\u001b[0;34m(\u001b[0m\u001b[0mt1\u001b[0m\u001b[0;34m)\u001b[0m\u001b[0;34m\u001b[0m\u001b[0;34m\u001b[0m\u001b[0m\n\u001b[0m\u001b[1;32m      2\u001b[0m \u001b[0;31m# to get time in seconds:\u001b[0m\u001b[0;34m\u001b[0m\u001b[0;34m\u001b[0m\u001b[0;34m\u001b[0m\u001b[0m\n\u001b[1;32m      3\u001b[0m \u001b[0mtime\u001b[0m\u001b[0;34m.\u001b[0m\u001b[0mmktime\u001b[0m\u001b[0;34m(\u001b[0m\u001b[0mts\u001b[0m\u001b[0;34m.\u001b[0m\u001b[0mtimetuple\u001b[0m\u001b[0;34m(\u001b[0m\u001b[0;34m)\u001b[0m\u001b[0;34m)\u001b[0m\u001b[0;34m\u001b[0m\u001b[0;34m\u001b[0m\u001b[0m\n",
      "\u001b[0;31mNameError\u001b[0m: name 'ciso8601' is not defined"
     ]
    }
   ],
   "source": [
    "\n",
    "ts = ciso8601.parse_datetime(t1)\n",
    "# to get time in seconds:\n",
    "time.mktime(ts.timetuple())"
   ]
  },
  {
   "cell_type": "code",
   "execution_count": null,
   "metadata": {},
   "outputs": [],
   "source": []
  },
  {
   "cell_type": "code",
   "execution_count": null,
   "metadata": {},
   "outputs": [],
   "source": []
  },
  {
   "cell_type": "code",
   "execution_count": null,
   "metadata": {},
   "outputs": [],
   "source": []
  },
  {
   "cell_type": "code",
   "execution_count": null,
   "metadata": {},
   "outputs": [],
   "source": []
  },
  {
   "cell_type": "code",
   "execution_count": null,
   "metadata": {},
   "outputs": [],
   "source": []
  },
  {
   "cell_type": "code",
   "execution_count": null,
   "metadata": {},
   "outputs": [],
   "source": []
  },
  {
   "cell_type": "code",
   "execution_count": 177,
   "metadata": {},
   "outputs": [
    {
     "data": {
      "text/plain": [
       "0    2012-03-31\n",
       "1    2011-12-11\n",
       "2    2011-08-13\n",
       "3    2011-11-27\n",
       "4    2012-02-18\n",
       "Name: Date, dtype: object"
      ]
     },
     "execution_count": 177,
     "metadata": {},
     "output_type": "execute_result"
    }
   ],
   "source": [
    "df.Date.head()"
   ]
  },
  {
   "cell_type": "code",
   "execution_count": null,
   "metadata": {},
   "outputs": [],
   "source": []
  },
  {
   "cell_type": "code",
   "execution_count": 179,
   "metadata": {},
   "outputs": [],
   "source": [
    "import datetime as dt\n",
    "df['UNIX_Date'] = pd.to_datetime(df['Date'])\n",
    "#df['UNIX_Date'] = df['Date'].map(dt.datetime.toordinal)"
   ]
  },
  {
   "cell_type": "code",
   "execution_count": 180,
   "metadata": {},
   "outputs": [
    {
     "data": {
      "text/plain": [
       "0   2012-03-31\n",
       "1   2011-12-11\n",
       "2   2011-08-13\n",
       "3   2011-11-27\n",
       "4   2012-02-18\n",
       "Name: UNIX_Date, dtype: datetime64[ns]"
      ]
     },
     "execution_count": 180,
     "metadata": {},
     "output_type": "execute_result"
    }
   ],
   "source": [
    "df.UNIX_Date.head()"
   ]
  },
  {
   "cell_type": "code",
   "execution_count": 186,
   "metadata": {},
   "outputs": [
    {
     "data": {
      "text/plain": [
       "0   2012-03-31\n",
       "1   2011-12-11\n",
       "2   2011-08-13\n",
       "3   2011-11-27\n",
       "4   2012-02-18\n",
       "Name: UNIX_Date, dtype: datetime64[ns]"
      ]
     },
     "execution_count": 186,
     "metadata": {},
     "output_type": "execute_result"
    }
   ],
   "source": [
    "df['UNIX_Date'] = pd.to_datetime(df[\"Date\"], format = \"%Y/%m/%d\")\n",
    "df.UNIX_Date.head()"
   ]
  },
  {
   "cell_type": "code",
   "execution_count": 207,
   "metadata": {},
   "outputs": [
    {
     "ename": "ValueError",
     "evalue": "time data '2012-03-31' does not match format '%Y/%m/%d'",
     "output_type": "error",
     "traceback": [
      "\u001b[0;31m---------------------------------------------------------------------------\u001b[0m",
      "\u001b[0;31mValueError\u001b[0m                                Traceback (most recent call last)",
      "\u001b[0;32m<ipython-input-207-90812afbf27d>\u001b[0m in \u001b[0;36m<module>\u001b[0;34m\u001b[0m\n\u001b[1;32m      1\u001b[0m \u001b[0;31m# Finally got the date column to a UNIX integer\u001b[0m\u001b[0;34m\u001b[0m\u001b[0;34m\u001b[0m\u001b[0;34m\u001b[0m\u001b[0m\n\u001b[1;32m      2\u001b[0m \u001b[0;32mfor\u001b[0m \u001b[0mdates\u001b[0m \u001b[0;32min\u001b[0m \u001b[0mdf\u001b[0m\u001b[0;34m.\u001b[0m\u001b[0mDate\u001b[0m\u001b[0;34m:\u001b[0m\u001b[0;34m\u001b[0m\u001b[0;34m\u001b[0m\u001b[0m\n\u001b[0;32m----> 3\u001b[0;31m     \u001b[0mdf\u001b[0m\u001b[0;34m[\u001b[0m\u001b[0;34m'UNIX_Date'\u001b[0m\u001b[0;34m]\u001b[0m \u001b[0;34m=\u001b[0m \u001b[0mint\u001b[0m\u001b[0;34m(\u001b[0m\u001b[0mdatetime\u001b[0m\u001b[0;34m.\u001b[0m\u001b[0mdatetime\u001b[0m\u001b[0;34m.\u001b[0m\u001b[0mstrptime\u001b[0m\u001b[0;34m(\u001b[0m\u001b[0mdates\u001b[0m\u001b[0;34m,\u001b[0m \u001b[0;34m\"%Y/%m/%d\"\u001b[0m\u001b[0;34m)\u001b[0m\u001b[0;34m.\u001b[0m\u001b[0mtimestamp\u001b[0m\u001b[0;34m(\u001b[0m\u001b[0;34m)\u001b[0m\u001b[0;34m)\u001b[0m\u001b[0;34m\u001b[0m\u001b[0;34m\u001b[0m\u001b[0m\n\u001b[0m",
      "\u001b[0;32m//anaconda3/lib/python3.7/_strptime.py\u001b[0m in \u001b[0;36m_strptime_datetime\u001b[0;34m(cls, data_string, format)\u001b[0m\n\u001b[1;32m    575\u001b[0m     \"\"\"Return a class cls instance based on the input string and the\n\u001b[1;32m    576\u001b[0m     format string.\"\"\"\n\u001b[0;32m--> 577\u001b[0;31m     \u001b[0mtt\u001b[0m\u001b[0;34m,\u001b[0m \u001b[0mfraction\u001b[0m\u001b[0;34m,\u001b[0m \u001b[0mgmtoff_fraction\u001b[0m \u001b[0;34m=\u001b[0m \u001b[0m_strptime\u001b[0m\u001b[0;34m(\u001b[0m\u001b[0mdata_string\u001b[0m\u001b[0;34m,\u001b[0m \u001b[0mformat\u001b[0m\u001b[0;34m)\u001b[0m\u001b[0;34m\u001b[0m\u001b[0;34m\u001b[0m\u001b[0m\n\u001b[0m\u001b[1;32m    578\u001b[0m     \u001b[0mtzname\u001b[0m\u001b[0;34m,\u001b[0m \u001b[0mgmtoff\u001b[0m \u001b[0;34m=\u001b[0m \u001b[0mtt\u001b[0m\u001b[0;34m[\u001b[0m\u001b[0;34m-\u001b[0m\u001b[0;36m2\u001b[0m\u001b[0;34m:\u001b[0m\u001b[0;34m]\u001b[0m\u001b[0;34m\u001b[0m\u001b[0;34m\u001b[0m\u001b[0m\n\u001b[1;32m    579\u001b[0m     \u001b[0margs\u001b[0m \u001b[0;34m=\u001b[0m \u001b[0mtt\u001b[0m\u001b[0;34m[\u001b[0m\u001b[0;34m:\u001b[0m\u001b[0;36m6\u001b[0m\u001b[0;34m]\u001b[0m \u001b[0;34m+\u001b[0m \u001b[0;34m(\u001b[0m\u001b[0mfraction\u001b[0m\u001b[0;34m,\u001b[0m\u001b[0;34m)\u001b[0m\u001b[0;34m\u001b[0m\u001b[0;34m\u001b[0m\u001b[0m\n",
      "\u001b[0;32m//anaconda3/lib/python3.7/_strptime.py\u001b[0m in \u001b[0;36m_strptime\u001b[0;34m(data_string, format)\u001b[0m\n\u001b[1;32m    357\u001b[0m     \u001b[0;32mif\u001b[0m \u001b[0;32mnot\u001b[0m \u001b[0mfound\u001b[0m\u001b[0;34m:\u001b[0m\u001b[0;34m\u001b[0m\u001b[0;34m\u001b[0m\u001b[0m\n\u001b[1;32m    358\u001b[0m         raise ValueError(\"time data %r does not match format %r\" %\n\u001b[0;32m--> 359\u001b[0;31m                          (data_string, format))\n\u001b[0m\u001b[1;32m    360\u001b[0m     \u001b[0;32mif\u001b[0m \u001b[0mlen\u001b[0m\u001b[0;34m(\u001b[0m\u001b[0mdata_string\u001b[0m\u001b[0;34m)\u001b[0m \u001b[0;34m!=\u001b[0m \u001b[0mfound\u001b[0m\u001b[0;34m.\u001b[0m\u001b[0mend\u001b[0m\u001b[0;34m(\u001b[0m\u001b[0;34m)\u001b[0m\u001b[0;34m:\u001b[0m\u001b[0;34m\u001b[0m\u001b[0;34m\u001b[0m\u001b[0m\n\u001b[1;32m    361\u001b[0m         raise ValueError(\"unconverted data remains: %s\" %\n",
      "\u001b[0;31mValueError\u001b[0m: time data '2012-03-31' does not match format '%Y/%m/%d'"
     ]
    }
   ],
   "source": [
    "# Finally got the date column to a UNIX integer... or NOT!\n",
    "for dates in df.Date:\n",
    "    df['UNIX_Date'] = int(datetime.datetime.strptime(dates, \"%Y/%m/%d\").timestamp())\n"
   ]
  },
  {
   "cell_type": "code",
   "execution_count": 201,
   "metadata": {},
   "outputs": [
    {
     "data": {
      "text/plain": [
       "0    1294808400\n",
       "1    1294808400\n",
       "2    1294808400\n",
       "3    1294808400\n",
       "4    1294808400\n",
       "Name: UNIX_Date, dtype: int64"
      ]
     },
     "execution_count": 201,
     "metadata": {},
     "output_type": "execute_result"
    }
   ],
   "source": [
    "df['UNIX_Date'].head()"
   ]
  },
  {
   "cell_type": "code",
   "execution_count": null,
   "metadata": {},
   "outputs": [],
   "source": []
  },
  {
   "cell_type": "code",
   "execution_count": null,
   "metadata": {},
   "outputs": [],
   "source": []
  },
  {
   "cell_type": "code",
   "execution_count": null,
   "metadata": {},
   "outputs": [],
   "source": []
  },
  {
   "cell_type": "code",
   "execution_count": 145,
   "metadata": {},
   "outputs": [],
   "source": [
    "# Secret hidden api_key\n",
    "import json\n",
    "\n",
    "def get_keys(path):\n",
    "    with open(path) as f:\n",
    "        return json.load(f)\n",
    "\n",
    "key = get_keys(\"/Users/whipxach/.secret/dark_sky_api.json\")\n",
    "\n",
    "api_key = key['api_key']\n"
   ]
  },
  {
   "cell_type": "code",
   "execution_count": 3,
   "metadata": {},
   "outputs": [
    {
     "ename": "ModuleNotFoundError",
     "evalue": "No module named 'forecastio'",
     "output_type": "error",
     "traceback": [
      "\u001b[0;31m-----------------------------------------------------------------\u001b[0m",
      "\u001b[0;31mModuleNotFoundError\u001b[0m             Traceback (most recent call last)",
      "\u001b[0;32m<ipython-input-3-90e4f9b0f40a>\u001b[0m in \u001b[0;36m<module>\u001b[0;34m\u001b[0m\n\u001b[0;32m----> 1\u001b[0;31m \u001b[0;32mfrom\u001b[0m \u001b[0mforecastio\u001b[0m\u001b[0;34m.\u001b[0m\u001b[0mapi\u001b[0m \u001b[0;32mimport\u001b[0m \u001b[0mload_forecast\u001b[0m\u001b[0;34m\u001b[0m\u001b[0;34m\u001b[0m\u001b[0m\n\u001b[0m\u001b[1;32m      2\u001b[0m \u001b[0;32mimport\u001b[0m \u001b[0mforcastio\u001b[0m\u001b[0;34m\u001b[0m\u001b[0;34m\u001b[0m\u001b[0m\n\u001b[1;32m      3\u001b[0m \u001b[0;34m\u001b[0m\u001b[0m\n\u001b[1;32m      4\u001b[0m \u001b[0mapi_key\u001b[0m \u001b[0;34m=\u001b[0m \u001b[0mapi_key\u001b[0m\u001b[0;34m\u001b[0m\u001b[0;34m\u001b[0m\u001b[0m\n\u001b[1;32m      5\u001b[0m \u001b[0mlat\u001b[0m \u001b[0;34m=\u001b[0m \u001b[0;36m52.520008\u001b[0m\u001b[0;34m\u001b[0m\u001b[0;34m\u001b[0m\u001b[0m\n",
      "\u001b[0;31mModuleNotFoundError\u001b[0m: No module named 'forecastio'"
     ]
    }
   ],
   "source": [
    "#from forecastio.api import load_forecast - Didn't work\n",
    "import forcastio\n",
    "\n",
    "api_key = api_key\n",
    "lat = 52.520008\n",
    "lng = 13.404954\n",
    "\n",
    "\n",
    "forecast = forecastio.load_forecast(api_key, lat, lng)"
   ]
  },
  {
   "cell_type": "code",
   "execution_count": null,
   "metadata": {},
   "outputs": [],
   "source": [
    "#print('{day}: {sum} Temp range: {tempMin} - {tempMax}'.format(**day))"
   ]
  },
  {
   "cell_type": "code",
   "execution_count": 46,
   "metadata": {},
   "outputs": [
    {
     "name": "stdout",
     "output_type": "stream",
     "text": [
      "<Response [200]>\n",
      "<class 'str'>\n",
      "{\"latitude\":52.520008,\"longitude\":13.404954,\"timezone\":\"Europe/Berlin\",\"currently\":{\"time\":20120208,\"temperature\":64.18,\"apparentTemperature\":64.5,\"dewPoint\":60.98,\"humidity\":0.89,\"pressure\":1010.6,\"windSpeed\":2.17,\"windBearing\":68,\"cloudCover\":1,\"uvIndex\":0},\"hourly\":{\"data\":[{\"time\":20041200,\"windSpeed\":8.05,\"windBearing\":90,\"cloudCover\":0.88,\"uvIndex\":0},{\"time\":20044800,\"temperature\":68.14,\"apparentTemperature\":68.14,\"dewPoint\":51.99,\"humidit\n"
     ]
    }
   ],
   "source": [
    "# For Berlin 2011\n",
    "import requests\n",
    "response = requests.get('https://api.darksky.net/forecast/api_key/52.520008,13.404954,20120208')\n",
    "print(response)\n",
    "print(type(response.text))\n",
    "print(response.text[0:450])"
   ]
  },
  {
   "cell_type": "code",
   "execution_count": 13,
   "metadata": {},
   "outputs": [
    {
     "name": "stdout",
     "output_type": "stream",
     "text": [
      "{\"latitude\":52.520008,\"longitude\":13.404954,\"timezone\":\"Europe/Berlin\",\"currently\":{\"time\":20120218,\"temperature\":64.18,\"apparentTemperature\":64.5,\"dewPoint\":60.98,\"humidity\":0.89,\"pressure\":1010.6,\"windSpeed\":2.17,\"windBearing\":69,\"cloudCover\":1,\"uvIndex\":0},\"hourly\":{\"data\":[{\"time\":20041200,\"windSpeed\":8.05,\"windBearing\":90,\"cloudCover\":0.88,\"uvIndex\":0},{\"time\":20044800,\"temperature\":68.14,\"apparentTemperature\":68.14,\"dewPoint\":51.99,\"humidity\":0.56,\"pressure\":1011.4,\"windSpeed\":9.18,\"windBearing\":101,\"cloudCover\":0.88,\"uvIndex\":0},{\"time\":20048400,\"windSpeed\":8.05,\"windBearing\":101,\"cloudCover\":0.88,\"uvIndex\":0},{\"time\":20052000,\"windSpeed\":5.82,\"windBearing\":90,\"cloudCover\":0.88,\"uvIndex\":0},{\"time\":20055600,\"temperature\":64.18,\"apparentTemperature\":64.18,\"dewPoint\":55.04,\"humidity\":0.72,\"pressure\":1011,\"windSpeed\":8.05,\"windBearing\":80,\"cloudCover\":0.25,\"uvIndex\":0},{\"time\":20059200,\"windSpeed\":6.93,\"windBearing\":90,\"cloudCover\":0.25,\"uvIndex\":0},{\"time\":20062800,\"windSpeed\":8.05,\"windBearing\":110,\"cloudCover\":0.88,\"uvIndex\":0},{\"time\":20066400,\"temperature\":63.1,\"apparentTemperature\":63.1,\"dewPoint\":55.04,\"humidity\":0.75,\"pressure\":1011.2,\"windSpeed\":11.39,\"windBearing\":110,\"cloudCover\":0.38,\"uvIndex\":1},{\"time\":20070000,\"windSpeed\":13.88,\"windBearing\":110,\"cloudCover\":0.88,\"uvIndex\":1},{\"time\":20073600,\"windSpeed\":12.76,\"windBearing\":110,\"cloudCover\":0.88,\"uvIndex\":2},{\"time\":20077200,\"temperature\":70.11,\"apparentTemperature\":70.11,\"dewPoint\":57.02,\"humidity\":0.63,\"pressure\":1010.4,\"windSpeed\":12.76,\"windBearing\":110,\"cloudCover\":0.75,\"uvIndex\":3},{\"time\":20080800,\"windSpeed\":14.99,\"windBearing\":101,\"cloudCover\":0.88,\"uvIndex\":4},{\"time\":20084400,\"windSpeed\":13.88,\"windBearing\":90,\"cloudCover\":0.88,\"uvIndex\":4},{\"time\":20088000,\"temperature\":73.19,\"apparentTemperature\":73.19,\"dewPoint\":53.96,\"humidity\":0.51,\"pressure\":1009.9,\"windSpeed\":11.39,\"windBearing\":90,\"cloudCover\":1,\"uvIndex\":4},{\"time\":20091600,\"windSpeed\":9.18,\"windBearing\":90,\"cloudCover\":0.88,\"uvIndex\":3},{\"time\":20095200,\"windSpeed\":13.88,\"windBearing\":110,\"cloudCover\":0.88,\"uvIndex\":3},{\"time\":20098800,\"temperature\":75.15,\"apparentTemperature\":75.15,\"dewPoint\":51.99,\"humidity\":0.44,\"pressure\":1009.2,\"windSpeed\":11.39,\"windBearing\":110,\"cloudCover\":1,\"uvIndex\":2},{\"time\":20102400,\"windSpeed\":11.39,\"windBearing\":180,\"cloudCover\":1,\"uvIndex\":1},{\"time\":20106000,\"windSpeed\":6.93,\"windBearing\":170,\"cloudCover\":1,\"uvIndex\":0},{\"time\":20109600,\"temperature\":64.18,\"apparentTemperature\":64.5,\"dewPoint\":60.98,\"humidity\":0.89,\"pressure\":1010.4,\"windSpeed\":3.36,\"windBearing\":170,\"cloudCover\":1,\"uvIndex\":0},{\"time\":20113200,\"windSpeed\":3.36,\"windBearing\":161,\"cloudCover\":1,\"uvIndex\":0},{\"time\":20116800,\"windSpeed\":3.36,\"windBearing\":110,\"cloudCover\":1,\"uvIndex\":0},{\"time\":20120400,\"temperature\":64.18,\"apparentTemperature\":64.5,\"dewPoint\":60.98,\"humidity\":0.89,\"pressure\":1010.6,\"windSpeed\":2.24,\"windBearing\":71,\"cloudCover\":1,\"uvIndex\":0},{\"time\":20124000,\"windSpeed\":6.93,\"windBearing\":131,\"cloudCover\":1,\"uvIndex\":0}]},\"daily\":{\"data\":[{\"time\":20041200,\"sunriseTime\":20059200,\"sunsetTime\":20110920,\"moonPhase\":0.68,\"windSpeed\":9.12,\"windBearing\":108,\"cloudCover\":0.84,\"uvIndex\":4,\"uvIndexTime\":20084100}]},\"flags\":{\"sources\":[\"cmc\",\"gfs\",\"icon\",\"isd\",\"madis\"],\"nearest-station\":1.22,\"units\":\"us\"},\"offset\":1}\n",
      "\n"
     ]
    }
   ],
   "source": [
    "print(response.text)"
   ]
  },
  {
   "cell_type": "code",
   "execution_count": 51,
   "metadata": {},
   "outputs": [
    {
     "data": {
      "text/plain": [
       "{'latitude': 52.520008,\n",
       " 'longitude': 13.404954,\n",
       " 'timezone': 'Europe/Berlin',\n",
       " 'currently': {'time': 20120208,\n",
       "  'temperature': 64.18,\n",
       "  'apparentTemperature': 64.5,\n",
       "  'dewPoint': 60.98,\n",
       "  'humidity': 0.89,\n",
       "  'pressure': 1010.6,\n",
       "  'windSpeed': 2.17,\n",
       "  'windBearing': 68,\n",
       "  'cloudCover': 1,\n",
       "  'uvIndex': 0},\n",
       " 'hourly': {'data': [{'time': 20041200,\n",
       "    'windSpeed': 8.05,\n",
       "    'windBearing': 90,\n",
       "    'cloudCover': 0.88,\n",
       "    'uvIndex': 0},\n",
       "   {'time': 20044800,\n",
       "    'temperature': 68.14,\n",
       "    'apparentTemperature': 68.14,\n",
       "    'dewPoint': 51.99,\n",
       "    'humidity': 0.56,\n",
       "    'pressure': 1011.4,\n",
       "    'windSpeed': 9.18,\n",
       "    'windBearing': 101,\n",
       "    'cloudCover': 0.88,\n",
       "    'uvIndex': 0},\n",
       "   {'time': 20048400,\n",
       "    'windSpeed': 8.05,\n",
       "    'windBearing': 101,\n",
       "    'cloudCover': 0.88,\n",
       "    'uvIndex': 0},\n",
       "   {'time': 20052000,\n",
       "    'windSpeed': 5.82,\n",
       "    'windBearing': 90,\n",
       "    'cloudCover': 0.88,\n",
       "    'uvIndex': 0},\n",
       "   {'time': 20055600,\n",
       "    'temperature': 64.18,\n",
       "    'apparentTemperature': 64.18,\n",
       "    'dewPoint': 55.04,\n",
       "    'humidity': 0.72,\n",
       "    'pressure': 1011,\n",
       "    'windSpeed': 8.05,\n",
       "    'windBearing': 80,\n",
       "    'cloudCover': 0.25,\n",
       "    'uvIndex': 0},\n",
       "   {'time': 20059200,\n",
       "    'windSpeed': 6.93,\n",
       "    'windBearing': 90,\n",
       "    'cloudCover': 0.25,\n",
       "    'uvIndex': 0},\n",
       "   {'time': 20062800,\n",
       "    'windSpeed': 8.05,\n",
       "    'windBearing': 110,\n",
       "    'cloudCover': 0.88,\n",
       "    'uvIndex': 0},\n",
       "   {'time': 20066400,\n",
       "    'temperature': 63.1,\n",
       "    'apparentTemperature': 63.1,\n",
       "    'dewPoint': 55.04,\n",
       "    'humidity': 0.75,\n",
       "    'pressure': 1011.2,\n",
       "    'windSpeed': 11.39,\n",
       "    'windBearing': 110,\n",
       "    'cloudCover': 0.38,\n",
       "    'uvIndex': 1},\n",
       "   {'time': 20070000,\n",
       "    'windSpeed': 13.88,\n",
       "    'windBearing': 110,\n",
       "    'cloudCover': 0.88,\n",
       "    'uvIndex': 1},\n",
       "   {'time': 20073600,\n",
       "    'windSpeed': 12.76,\n",
       "    'windBearing': 110,\n",
       "    'cloudCover': 0.88,\n",
       "    'uvIndex': 2},\n",
       "   {'time': 20077200,\n",
       "    'temperature': 70.11,\n",
       "    'apparentTemperature': 70.11,\n",
       "    'dewPoint': 57.02,\n",
       "    'humidity': 0.63,\n",
       "    'pressure': 1010.4,\n",
       "    'windSpeed': 12.76,\n",
       "    'windBearing': 110,\n",
       "    'cloudCover': 0.75,\n",
       "    'uvIndex': 3},\n",
       "   {'time': 20080800,\n",
       "    'windSpeed': 14.99,\n",
       "    'windBearing': 101,\n",
       "    'cloudCover': 0.88,\n",
       "    'uvIndex': 4},\n",
       "   {'time': 20084400,\n",
       "    'windSpeed': 13.88,\n",
       "    'windBearing': 90,\n",
       "    'cloudCover': 0.88,\n",
       "    'uvIndex': 4},\n",
       "   {'time': 20088000,\n",
       "    'temperature': 73.19,\n",
       "    'apparentTemperature': 73.19,\n",
       "    'dewPoint': 53.96,\n",
       "    'humidity': 0.51,\n",
       "    'pressure': 1009.9,\n",
       "    'windSpeed': 11.39,\n",
       "    'windBearing': 90,\n",
       "    'cloudCover': 1,\n",
       "    'uvIndex': 4},\n",
       "   {'time': 20091600,\n",
       "    'windSpeed': 9.18,\n",
       "    'windBearing': 90,\n",
       "    'cloudCover': 0.88,\n",
       "    'uvIndex': 3},\n",
       "   {'time': 20095200,\n",
       "    'windSpeed': 13.88,\n",
       "    'windBearing': 110,\n",
       "    'cloudCover': 0.88,\n",
       "    'uvIndex': 3},\n",
       "   {'time': 20098800,\n",
       "    'temperature': 75.15,\n",
       "    'apparentTemperature': 75.15,\n",
       "    'dewPoint': 51.99,\n",
       "    'humidity': 0.44,\n",
       "    'pressure': 1009.2,\n",
       "    'windSpeed': 11.39,\n",
       "    'windBearing': 110,\n",
       "    'cloudCover': 1,\n",
       "    'uvIndex': 2},\n",
       "   {'time': 20102400,\n",
       "    'windSpeed': 11.39,\n",
       "    'windBearing': 180,\n",
       "    'cloudCover': 1,\n",
       "    'uvIndex': 1},\n",
       "   {'time': 20106000,\n",
       "    'windSpeed': 6.93,\n",
       "    'windBearing': 170,\n",
       "    'cloudCover': 1,\n",
       "    'uvIndex': 0},\n",
       "   {'time': 20109600,\n",
       "    'temperature': 64.18,\n",
       "    'apparentTemperature': 64.5,\n",
       "    'dewPoint': 60.98,\n",
       "    'humidity': 0.89,\n",
       "    'pressure': 1010.4,\n",
       "    'windSpeed': 3.36,\n",
       "    'windBearing': 170,\n",
       "    'cloudCover': 1,\n",
       "    'uvIndex': 0},\n",
       "   {'time': 20113200,\n",
       "    'windSpeed': 3.36,\n",
       "    'windBearing': 161,\n",
       "    'cloudCover': 1,\n",
       "    'uvIndex': 0},\n",
       "   {'time': 20116800,\n",
       "    'windSpeed': 3.36,\n",
       "    'windBearing': 110,\n",
       "    'cloudCover': 1,\n",
       "    'uvIndex': 0},\n",
       "   {'time': 20120400,\n",
       "    'temperature': 64.18,\n",
       "    'apparentTemperature': 64.5,\n",
       "    'dewPoint': 60.98,\n",
       "    'humidity': 0.89,\n",
       "    'pressure': 1010.6,\n",
       "    'windSpeed': 2.24,\n",
       "    'windBearing': 71,\n",
       "    'cloudCover': 1,\n",
       "    'uvIndex': 0},\n",
       "   {'time': 20124000,\n",
       "    'windSpeed': 6.93,\n",
       "    'windBearing': 131,\n",
       "    'cloudCover': 1,\n",
       "    'uvIndex': 0}]},\n",
       " 'daily': {'data': [{'time': 20041200,\n",
       "    'sunriseTime': 20059200,\n",
       "    'sunsetTime': 20110920,\n",
       "    'moonPhase': 0.68,\n",
       "    'windSpeed': 9.12,\n",
       "    'windBearing': 108,\n",
       "    'cloudCover': 0.84,\n",
       "    'uvIndex': 4,\n",
       "    'uvIndexTime': 20084100}]},\n",
       " 'flags': {'sources': ['cmc', 'gfs', 'icon', 'isd', 'madis'],\n",
       "  'nearest-station': 1.22,\n",
       "  'units': 'us'},\n",
       " 'offset': 1}"
      ]
     },
     "execution_count": 51,
     "metadata": {},
     "output_type": "execute_result"
    }
   ],
   "source": [
    "response.json()"
   ]
  },
  {
   "cell_type": "code",
   "execution_count": 82,
   "metadata": {},
   "outputs": [
    {
     "name": "stdout",
     "output_type": "stream",
     "text": [
      "latitude\n",
      "<class 'float'>\n",
      "\n",
      "\n",
      "longitude\n",
      "<class 'float'>\n",
      "\n",
      "\n",
      "timezone\n",
      "<class 'str'>\n",
      "\n",
      "\n",
      "currently\n",
      "<class 'dict'>\n",
      "\n",
      "\n",
      "hourly\n",
      "<class 'dict'>\n",
      "\n",
      "\n",
      "daily\n",
      "<class 'dict'>\n",
      "\n",
      "\n",
      "flags\n",
      "<class 'dict'>\n",
      "\n",
      "\n",
      "offset\n",
      "<class 'int'>\n",
      "\n",
      "\n"
     ]
    }
   ],
   "source": [
    "for key in response.json().keys():\n",
    "    print(key)\n",
    "    value = response.json()[key] #Use standard dictionary formatting\n",
    "    print(type(value)) #What type is it?\n",
    "    print('\\n') #Separate out data"
   ]
  },
  {
   "cell_type": "code",
   "execution_count": 144,
   "metadata": {},
   "outputs": [
    {
     "data": {
      "text/plain": [
       "{'data': [{'time': 20041200,\n",
       "   'sunriseTime': 20059200,\n",
       "   'sunsetTime': 20110920,\n",
       "   'moonPhase': 0.68,\n",
       "   'windSpeed': 9.12,\n",
       "   'windBearing': 108,\n",
       "   'cloudCover': 0.84,\n",
       "   'uvIndex': 4,\n",
       "   'uvIndexTime': 20084100}]}"
      ]
     },
     "execution_count": 144,
     "metadata": {},
     "output_type": "execute_result"
    }
   ],
   "source": [
    "response.json()['daily']"
   ]
  },
  {
   "cell_type": "code",
   "execution_count": 76,
   "metadata": {},
   "outputs": [
    {
     "name": "stdout",
     "output_type": "stream",
     "text": [
      "24\n",
      "Index(['data'], dtype='object')\n"
     ]
    },
    {
     "data": {
      "text/html": [
       "<div>\n",
       "<style scoped>\n",
       "    .dataframe tbody tr th:only-of-type {\n",
       "        vertical-align: middle;\n",
       "    }\n",
       "\n",
       "    .dataframe tbody tr th {\n",
       "        vertical-align: top;\n",
       "    }\n",
       "\n",
       "    .dataframe thead th {\n",
       "        text-align: right;\n",
       "    }\n",
       "</style>\n",
       "<table border=\"1\" class=\"dataframe\">\n",
       "  <thead>\n",
       "    <tr style=\"text-align: right;\">\n",
       "      <th></th>\n",
       "      <th>data</th>\n",
       "    </tr>\n",
       "  </thead>\n",
       "  <tbody>\n",
       "    <tr>\n",
       "      <th>0</th>\n",
       "      <td>{'time': 20041200, 'windSpeed': 8.05, 'windBea...</td>\n",
       "    </tr>\n",
       "    <tr>\n",
       "      <th>1</th>\n",
       "      <td>{'time': 20044800, 'temperature': 68.14, 'appa...</td>\n",
       "    </tr>\n",
       "    <tr>\n",
       "      <th>2</th>\n",
       "      <td>{'time': 20048400, 'windSpeed': 8.05, 'windBea...</td>\n",
       "    </tr>\n",
       "    <tr>\n",
       "      <th>3</th>\n",
       "      <td>{'time': 20052000, 'windSpeed': 5.82, 'windBea...</td>\n",
       "    </tr>\n",
       "    <tr>\n",
       "      <th>4</th>\n",
       "      <td>{'time': 20055600, 'temperature': 64.18, 'appa...</td>\n",
       "    </tr>\n",
       "    <tr>\n",
       "      <th>5</th>\n",
       "      <td>{'time': 20059200, 'windSpeed': 6.93, 'windBea...</td>\n",
       "    </tr>\n",
       "    <tr>\n",
       "      <th>6</th>\n",
       "      <td>{'time': 20062800, 'windSpeed': 8.05, 'windBea...</td>\n",
       "    </tr>\n",
       "    <tr>\n",
       "      <th>7</th>\n",
       "      <td>{'time': 20066400, 'temperature': 63.1, 'appar...</td>\n",
       "    </tr>\n",
       "    <tr>\n",
       "      <th>8</th>\n",
       "      <td>{'time': 20070000, 'windSpeed': 13.88, 'windBe...</td>\n",
       "    </tr>\n",
       "    <tr>\n",
       "      <th>9</th>\n",
       "      <td>{'time': 20073600, 'windSpeed': 12.76, 'windBe...</td>\n",
       "    </tr>\n",
       "    <tr>\n",
       "      <th>10</th>\n",
       "      <td>{'time': 20077200, 'temperature': 70.11, 'appa...</td>\n",
       "    </tr>\n",
       "    <tr>\n",
       "      <th>11</th>\n",
       "      <td>{'time': 20080800, 'windSpeed': 14.99, 'windBe...</td>\n",
       "    </tr>\n",
       "    <tr>\n",
       "      <th>12</th>\n",
       "      <td>{'time': 20084400, 'windSpeed': 13.88, 'windBe...</td>\n",
       "    </tr>\n",
       "    <tr>\n",
       "      <th>13</th>\n",
       "      <td>{'time': 20088000, 'temperature': 73.19, 'appa...</td>\n",
       "    </tr>\n",
       "    <tr>\n",
       "      <th>14</th>\n",
       "      <td>{'time': 20091600, 'windSpeed': 9.18, 'windBea...</td>\n",
       "    </tr>\n",
       "    <tr>\n",
       "      <th>15</th>\n",
       "      <td>{'time': 20095200, 'windSpeed': 13.88, 'windBe...</td>\n",
       "    </tr>\n",
       "    <tr>\n",
       "      <th>16</th>\n",
       "      <td>{'time': 20098800, 'temperature': 75.15, 'appa...</td>\n",
       "    </tr>\n",
       "    <tr>\n",
       "      <th>17</th>\n",
       "      <td>{'time': 20102400, 'windSpeed': 11.39, 'windBe...</td>\n",
       "    </tr>\n",
       "    <tr>\n",
       "      <th>18</th>\n",
       "      <td>{'time': 20106000, 'windSpeed': 6.93, 'windBea...</td>\n",
       "    </tr>\n",
       "    <tr>\n",
       "      <th>19</th>\n",
       "      <td>{'time': 20109600, 'temperature': 64.18, 'appa...</td>\n",
       "    </tr>\n",
       "    <tr>\n",
       "      <th>20</th>\n",
       "      <td>{'time': 20113200, 'windSpeed': 3.36, 'windBea...</td>\n",
       "    </tr>\n",
       "    <tr>\n",
       "      <th>21</th>\n",
       "      <td>{'time': 20116800, 'windSpeed': 3.36, 'windBea...</td>\n",
       "    </tr>\n",
       "    <tr>\n",
       "      <th>22</th>\n",
       "      <td>{'time': 20120400, 'temperature': 64.18, 'appa...</td>\n",
       "    </tr>\n",
       "    <tr>\n",
       "      <th>23</th>\n",
       "      <td>{'time': 20124000, 'windSpeed': 6.93, 'windBea...</td>\n",
       "    </tr>\n",
       "  </tbody>\n",
       "</table>\n",
       "</div>"
      ],
      "text/plain": [
       "                                                 data\n",
       "0   {'time': 20041200, 'windSpeed': 8.05, 'windBea...\n",
       "1   {'time': 20044800, 'temperature': 68.14, 'appa...\n",
       "2   {'time': 20048400, 'windSpeed': 8.05, 'windBea...\n",
       "3   {'time': 20052000, 'windSpeed': 5.82, 'windBea...\n",
       "4   {'time': 20055600, 'temperature': 64.18, 'appa...\n",
       "5   {'time': 20059200, 'windSpeed': 6.93, 'windBea...\n",
       "6   {'time': 20062800, 'windSpeed': 8.05, 'windBea...\n",
       "7   {'time': 20066400, 'temperature': 63.1, 'appar...\n",
       "8   {'time': 20070000, 'windSpeed': 13.88, 'windBe...\n",
       "9   {'time': 20073600, 'windSpeed': 12.76, 'windBe...\n",
       "10  {'time': 20077200, 'temperature': 70.11, 'appa...\n",
       "11  {'time': 20080800, 'windSpeed': 14.99, 'windBe...\n",
       "12  {'time': 20084400, 'windSpeed': 13.88, 'windBe...\n",
       "13  {'time': 20088000, 'temperature': 73.19, 'appa...\n",
       "14  {'time': 20091600, 'windSpeed': 9.18, 'windBea...\n",
       "15  {'time': 20095200, 'windSpeed': 13.88, 'windBe...\n",
       "16  {'time': 20098800, 'temperature': 75.15, 'appa...\n",
       "17  {'time': 20102400, 'windSpeed': 11.39, 'windBe...\n",
       "18  {'time': 20106000, 'windSpeed': 6.93, 'windBea...\n",
       "19  {'time': 20109600, 'temperature': 64.18, 'appa...\n",
       "20  {'time': 20113200, 'windSpeed': 3.36, 'windBea...\n",
       "21  {'time': 20116800, 'windSpeed': 3.36, 'windBea...\n",
       "22  {'time': 20120400, 'temperature': 64.18, 'appa...\n",
       "23  {'time': 20124000, 'windSpeed': 6.93, 'windBea..."
      ]
     },
     "execution_count": 76,
     "metadata": {},
     "output_type": "execute_result"
    }
   ],
   "source": [
    "import pandas as pd\n",
    "\n",
    "df = pd.DataFrame.from_dict(response.json()['hourly'])\n",
    "print(len(df)) #Print how many rows\n",
    "print(df.columns) #Print column names\n",
    "df"
   ]
  },
  {
   "cell_type": "code",
   "execution_count": 80,
   "metadata": {},
   "outputs": [
    {
     "data": {
      "text/plain": [
       "0.44"
      ]
     },
     "execution_count": 80,
     "metadata": {},
     "output_type": "execute_result"
    }
   ],
   "source": [
    "# Still can't get precipitation... but here is the humidity!\n",
    "df.data[16]['humidity']"
   ]
  },
  {
   "cell_type": "code",
   "execution_count": 42,
   "metadata": {},
   "outputs": [
    {
     "name": "stdout",
     "output_type": "stream",
     "text": [
      "<Response [400]>\n",
      "<class 'str'>\n",
      "{\"code\":400,\"error\":\"Poorly formatted request\"}\n",
      "\n"
     ]
    },
    {
     "data": {
      "text/plain": [
       "<Response [400]>"
      ]
     },
     "execution_count": 42,
     "metadata": {},
     "output_type": "execute_result"
    }
   ],
   "source": [
    "# This didn't work passing in arguments\n",
    "import requests\n",
    "\n",
    "key = api_key\n",
    "lat = 52.520008\n",
    "lon = 13.404954\n",
    "time = 20120419\n",
    "\n",
    "def getweather(key,lat,lon,time):\n",
    "    response = requests.get('https://api.darksky.net/forecast/key/lat,lon,time')\n",
    "    return response\n",
    "print(response)\n",
    "print(type(response.text))\n",
    "print(response.text[0:450])\n",
    "\n",
    "getweather(key,lat,lon,time)"
   ]
  },
  {
   "cell_type": "code",
   "execution_count": 45,
   "metadata": {},
   "outputs": [
    {
     "data": {
      "text/plain": [
       "{'code': 400, 'error': 'Poorly formatted request'}"
      ]
     },
     "execution_count": 45,
     "metadata": {},
     "output_type": "execute_result"
    }
   ],
   "source": [
    "response.json()"
   ]
  },
  {
   "cell_type": "code",
   "execution_count": 13,
   "metadata": {},
   "outputs": [
    {
     "name": "stdout",
     "output_type": "stream",
     "text": [
      "<Response [400]>\n",
      "<class 'str'>\n",
      "{\"code\":400,\"error\":\"Poorly formatted request\"}\n",
      "\n"
     ]
    }
   ],
   "source": [
    "# Couldn't get this to work, with header Authorization: Bearer stuff!\n",
    "import requests\n",
    "import pandas as pd\n",
    "\n",
    "api_key = api_key\n",
    "latitude = '52.520008'\n",
    "longitude = '13.404954'\n",
    "time = '20120218'\n",
    "\n",
    "url = 'https://api.darksky.net/forecast/'\n",
    "\n",
    "headers = {\n",
    "            'Authorization': 'Bearer {}'.format(api_key),\n",
    "          }\n",
    "\n",
    "url_params = {\n",
    "                'latitude': latitude.replace(' ', '+'),\n",
    "                'longitude': longitude.replace(' ', '+'),\n",
    "                'time': time.replace(' ', '+')\n",
    "             }\n",
    "response = requests.get(url, headers=headers, params=url_params)\n",
    "print(response)\n",
    "print(type(response.text))\n",
    "print(response.text[0:500])"
   ]
  },
  {
   "cell_type": "code",
   "execution_count": 140,
   "metadata": {},
   "outputs": [],
   "source": [
    "# Secret hidden api_key\n",
    "import json\n",
    "\n",
    "def get_keys(path):\n",
    "    with open(path) as f:\n",
    "        return json.load(f)\n",
    "\n",
    "key = get_keys(\"/Users/whipxach/.secret/dark_sky_api.json\")\n",
    "\n",
    "api_key = key['api_key']"
   ]
  },
  {
   "cell_type": "code",
   "execution_count": 200,
   "metadata": {},
   "outputs": [
    {
     "name": "stdout",
     "output_type": "stream",
     "text": [
      "<Response [200]>\n",
      "{\"latitude\":52.520008,\"longitude\":13.404954,\"timezone\":\"Europe/Berlin\",\"currently\":{\"time\":1294808400,\"summary\":\"Drizzle\",\"icon\":\"rain\",\"precipIntensity\":0.0099,\"precipProbability\":1,\"precipType\":\"rain\",\"temperature\":39.25,\"apparentTemperature\":31.54,\"dewPoint\":37.4,\"humidity\":0.93,\"windSpeed\":13,\"windGust\":13,\"windBearing\":251,\"cloudCover\":0.89,\"uvIndex\":0,\"visibility\":3.73},\"daily\":{\"data\":[{\"time\":1294786800,\"summary\":\"Light rain in the morning and overnight.\",\"icon\":\"rain\",\"sunriseTime\":1294816440,\"sunsetTime\":1294845480,\"moonPhase\":0.26,\"precipIntensity\":0.001,\"precipIntensityMax\":0.01,\"precipIntensityMaxTime\":1294808820,\"precipProbability\":1,\"precipType\":\"rain\",\"temperatureHigh\":41.65,\"temperatureHighTime\":1294834860,\"temperatureLow\":36.83,\"temperatureLowTime\":1294874640,\"apparentTemperatureHigh\":33.17,\"apparentTemperatureHighTime\":1294837140,\"apparentTemperatureLow\":30.93,\"apparentTemperatureLowTime\":1294873380,\"dewPoint\":33.38,\"humidity\":0.8,\"windSpeed\":11.81,\"windGust\":19.09,\"windGustTime\":1294832820,\"windBearing\":244,\"cloudCover\":0.81,\"uvIndex\":1,\"uvIndexTime\":1294830780,\"visibility\":6.071,\"temperatureMin\":36.86,\"temperatureMinTime\":1294820040,\"temperatureMax\":41.65,\"temperatureMaxTime\":1294834860,\"apparentTemperatureMin\":28.69,\"apparentTemperatureMinTime\":1294822440,\"apparentTemperatureMax\":33.58,\"apparentTemperatureMaxTime\":1294866480}]},\"offset\":1}\n",
      "\n"
     ]
    }
   ],
   "source": [
    "# API Request with working format and UNIX date!\n",
    "url_params = {\n",
    "                'api_key': api_key, \n",
    "                \"latitude\":'52.520008',\n",
    "                \"longitude\":'13.404954',\n",
    "                \"time\":'1294808400'\n",
    "             }\n",
    "\n",
    "\n",
    "response = requests.get('https://api.darksky.net/forecast/{api_key}/{latitude},{longitude},{time}?exclude=hourly,flags'.format(**url_params))\n",
    "print(response)\n",
    "print(response.text[0:1000])"
   ]
  },
  {
   "cell_type": "code",
   "execution_count": null,
   "metadata": {},
   "outputs": [],
   "source": [
    "# Convert time SQL to string\n",
    "select replace(convert(varchar, getdate(),101),'/','')"
   ]
  }
 ],
 "metadata": {
  "kernelspec": {
   "display_name": "Python 3",
   "language": "python",
   "name": "python3"
  },
  "language_info": {
   "codemirror_mode": {
    "name": "ipython",
    "version": 3
   },
   "file_extension": ".py",
   "mimetype": "text/x-python",
   "name": "python",
   "nbconvert_exporter": "python",
   "pygments_lexer": "ipython3",
   "version": "3.7.3"
  }
 },
 "nbformat": 4,
 "nbformat_minor": 2
}
