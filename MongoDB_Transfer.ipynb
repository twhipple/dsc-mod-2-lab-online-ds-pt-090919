{
 "cells": [
  {
   "cell_type": "markdown",
   "metadata": {},
   "source": [
    "# MongoDB_Transfer"
   ]
  },
  {
   "cell_type": "code",
   "execution_count": 36,
   "metadata": {},
   "outputs": [],
   "source": [
    "# Import sqlite3, load connection and cursor\n",
    "import sqlite3 \n",
    "conn = sqlite3.connect('database.sqlite')\n",
    "cur = conn.cursor()"
   ]
  },
  {
   "cell_type": "code",
   "execution_count": 37,
   "metadata": {},
   "outputs": [
    {
     "name": "stdout",
     "output_type": "stream",
     "text": [
      "56\n"
     ]
    },
    {
     "data": {
      "text/html": [
       "<div>\n",
       "<style scoped>\n",
       "    .dataframe tbody tr th:only-of-type {\n",
       "        vertical-align: middle;\n",
       "    }\n",
       "\n",
       "    .dataframe tbody tr th {\n",
       "        vertical-align: top;\n",
       "    }\n",
       "\n",
       "    .dataframe thead th {\n",
       "        text-align: right;\n",
       "    }\n",
       "</style>\n",
       "<table border=\"1\" class=\"dataframe\">\n",
       "  <thead>\n",
       "    <tr style=\"text-align: right;\">\n",
       "      <th></th>\n",
       "      <th>TeamName</th>\n",
       "      <th>Total_Goals</th>\n",
       "      <th>Total_Wins</th>\n",
       "    </tr>\n",
       "  </thead>\n",
       "  <tbody>\n",
       "    <tr>\n",
       "      <th>0</th>\n",
       "      <td>Blackburn</td>\n",
       "      <td>126</td>\n",
       "      <td>38</td>\n",
       "    </tr>\n",
       "    <tr>\n",
       "      <th>1</th>\n",
       "      <td>Arsenal</td>\n",
       "      <td>123</td>\n",
       "      <td>38</td>\n",
       "    </tr>\n",
       "    <tr>\n",
       "      <th>2</th>\n",
       "      <td>Bolton</td>\n",
       "      <td>123</td>\n",
       "      <td>38</td>\n",
       "    </tr>\n",
       "    <tr>\n",
       "      <th>3</th>\n",
       "      <td>Man City</td>\n",
       "      <td>122</td>\n",
       "      <td>38</td>\n",
       "    </tr>\n",
       "    <tr>\n",
       "      <th>4</th>\n",
       "      <td>Man United</td>\n",
       "      <td>122</td>\n",
       "      <td>38</td>\n",
       "    </tr>\n",
       "  </tbody>\n",
       "</table>\n",
       "</div>"
      ],
      "text/plain": [
       "     TeamName  Total_Goals  Total_Wins\n",
       "0   Blackburn          126          38\n",
       "1     Arsenal          123          38\n",
       "2      Bolton          123          38\n",
       "3    Man City          122          38\n",
       "4  Man United          122          38"
      ]
     },
     "execution_count": 37,
     "metadata": {},
     "output_type": "execute_result"
    }
   ],
   "source": [
    "cur.execute(\"\"\"SELECT TeamName, SUM(FTHG) + SUM(FTAG) AS Total_Goals, COUNT(FTR) AS Total_Wins\n",
    "               FROM Unique_Teams\n",
    "               JOIN Teams_in_Matches\n",
    "               USING(Unique_Team_ID)\n",
    "               JOIN Matches\n",
    "               USING(Match_ID)\n",
    "               WHERE Season = 2011\n",
    "               GROUP BY TeamName\n",
    "               ORDER BY Total_Goals DESC\n",
    "               \n",
    "               ;\"\"\")\n",
    "import pandas as pd\n",
    "df = pd.DataFrame(cur.fetchall())\n",
    "df.columns = [x[0] for x in cur.description]\n",
    "print(len(df))\n",
    "df.head()"
   ]
  },
  {
   "cell_type": "code",
   "execution_count": null,
   "metadata": {},
   "outputs": [],
   "source": []
  },
  {
   "cell_type": "code",
   "execution_count": null,
   "metadata": {},
   "outputs": [],
   "source": []
  },
  {
   "cell_type": "code",
   "execution_count": 9,
   "metadata": {},
   "outputs": [
    {
     "name": "stdout",
     "output_type": "stream",
     "text": [
      "Requirement already satisfied: pymongo in /anaconda3/lib/python3.7/site-packages (3.9.0)\r\n"
     ]
    }
   ],
   "source": [
    "!pip install pymongo"
   ]
  },
  {
   "cell_type": "code",
   "execution_count": 30,
   "metadata": {},
   "outputs": [],
   "source": [
    "import pymongo"
   ]
  },
  {
   "cell_type": "code",
   "execution_count": 31,
   "metadata": {},
   "outputs": [],
   "source": [
    "myclient = pymongo.MongoClient(\"mongodb://127.0.0.1:27017/\")\n",
    "soccer_db = myclient['soccer_db']"
   ]
  },
  {
   "cell_type": "code",
   "execution_count": 32,
   "metadata": {},
   "outputs": [
    {
     "name": "stdout",
     "output_type": "stream",
     "text": [
      "['admin', 'config', 'example_database', 'lab_collection', 'local', 'test']\n"
     ]
    }
   ],
   "source": [
    "print(myclient.list_database_names())"
   ]
  },
  {
   "cell_type": "code",
   "execution_count": 33,
   "metadata": {},
   "outputs": [],
   "source": [
    "soccer_collection = soccer_db['soccer_collection']"
   ]
  },
  {
   "cell_type": "code",
   "execution_count": 39,
   "metadata": {},
   "outputs": [
    {
     "data": {
      "text/plain": [
       "<pymongo.results.InsertManyResult at 0x11b72bec8>"
      ]
     },
     "execution_count": 39,
     "metadata": {},
     "output_type": "execute_result"
    }
   ],
   "source": [
    "soccer_collection.insert_many(df.to_dict('records'))"
   ]
  },
  {
   "cell_type": "code",
   "execution_count": 40,
   "metadata": {},
   "outputs": [
    {
     "name": "stdout",
     "output_type": "stream",
     "text": [
      "['admin', 'config', 'example_database', 'lab_collection', 'local', 'soccer_db', 'test']\n"
     ]
    }
   ],
   "source": [
    "print(myclient.list_database_names())"
   ]
  },
  {
   "cell_type": "code",
   "execution_count": 41,
   "metadata": {},
   "outputs": [
    {
     "data": {
      "text/plain": [
       "Database(MongoClient(host=['127.0.0.1:27017'], document_class=dict, tz_aware=False, connect=True), 'soccer_db')"
      ]
     },
     "execution_count": 41,
     "metadata": {},
     "output_type": "execute_result"
    }
   ],
   "source": [
    "soccer_db"
   ]
  },
  {
   "cell_type": "code",
   "execution_count": 43,
   "metadata": {},
   "outputs": [
    {
     "name": "stdout",
     "output_type": "stream",
     "text": [
      "{'_id': ObjectId('5dd17a50f03972ec07bd0d82'), 'TeamName': 'Blackburn', 'Total_Goals': 126, 'Total_Wins': 38}\n",
      "{'_id': ObjectId('5dd17a50f03972ec07bd0d83'), 'TeamName': 'Arsenal', 'Total_Goals': 123, 'Total_Wins': 38}\n",
      "{'_id': ObjectId('5dd17a50f03972ec07bd0d84'), 'TeamName': 'Bolton', 'Total_Goals': 123, 'Total_Wins': 38}\n",
      "{'_id': ObjectId('5dd17a50f03972ec07bd0d85'), 'TeamName': 'Man City', 'Total_Goals': 122, 'Total_Wins': 38}\n",
      "{'_id': ObjectId('5dd17a50f03972ec07bd0d86'), 'TeamName': 'Man United', 'Total_Goals': 122, 'Total_Wins': 38}\n",
      "{'_id': ObjectId('5dd17a50f03972ec07bd0d87'), 'TeamName': 'Wolves', 'Total_Goals': 122, 'Total_Wins': 38}\n",
      "{'_id': ObjectId('5dd17a50f03972ec07bd0d88'), 'TeamName': 'Norwich', 'Total_Goals': 118, 'Total_Wins': 38}\n",
      "{'_id': ObjectId('5dd17a50f03972ec07bd0d89'), 'TeamName': 'Schalke 04', 'Total_Goals': 118, 'Total_Wins': 34}\n",
      "{'_id': ObjectId('5dd17a50f03972ec07bd0d8a'), 'TeamName': 'FC Koln', 'Total_Goals': 114, 'Total_Wins': 34}\n",
      "{'_id': ObjectId('5dd17a50f03972ec07bd0d8b'), 'TeamName': 'Union Berlin', 'Total_Goals': 113, 'Total_Wins': 34}\n",
      "{'_id': ObjectId('5dd17a50f03972ec07bd0d8c'), 'TeamName': 'Chelsea', 'Total_Goals': 111, 'Total_Wins': 38}\n",
      "{'_id': ObjectId('5dd17a50f03972ec07bd0d8d'), 'TeamName': 'Ein Frankfurt', 'Total_Goals': 109, 'Total_Wins': 34}\n",
      "{'_id': ObjectId('5dd17a50f03972ec07bd0d8e'), 'TeamName': 'QPR', 'Total_Goals': 109, 'Total_Wins': 38}\n",
      "{'_id': ObjectId('5dd17a50f03972ec07bd0d8f'), 'TeamName': 'Stuttgart', 'Total_Goals': 109, 'Total_Wins': 34}\n",
      "{'_id': ObjectId('5dd17a50f03972ec07bd0d90'), 'TeamName': 'Munich 1860', 'Total_Goals': 108, 'Total_Wins': 34}\n",
      "{'_id': ObjectId('5dd17a50f03972ec07bd0d91'), 'TeamName': 'Newcastle', 'Total_Goals': 107, 'Total_Wins': 38}\n",
      "{'_id': ObjectId('5dd17a50f03972ec07bd0d92'), 'TeamName': 'Tottenham', 'Total_Goals': 107, 'Total_Wins': 38}\n",
      "{'_id': ObjectId('5dd17a50f03972ec07bd0d93'), 'TeamName': 'Werder Bremen', 'Total_Goals': 107, 'Total_Wins': 34}\n",
      "{'_id': ObjectId('5dd17a50f03972ec07bd0d94'), 'TeamName': 'Wolfsburg', 'Total_Goals': 107, 'Total_Wins': 34}\n",
      "{'_id': ObjectId('5dd17a50f03972ec07bd0d95'), 'TeamName': 'Freiburg', 'Total_Goals': 106, 'Total_Wins': 34}\n",
      "{'_id': ObjectId('5dd17a50f03972ec07bd0d96'), 'TeamName': 'Dortmund', 'Total_Goals': 105, 'Total_Wins': 34}\n",
      "{'_id': ObjectId('5dd17a50f03972ec07bd0d97'), 'TeamName': 'Wigan', 'Total_Goals': 104, 'Total_Wins': 38}\n",
      "{'_id': ObjectId('5dd17a50f03972ec07bd0d98'), 'TeamName': 'Dresden', 'Total_Goals': 102, 'Total_Wins': 34}\n",
      "{'_id': ObjectId('5dd17a50f03972ec07bd0d99'), 'TeamName': 'Frankfurt FSV', 'Total_Goals': 102, 'Total_Wins': 34}\n",
      "{'_id': ObjectId('5dd17a50f03972ec07bd0d9a'), 'TeamName': 'Hertha', 'Total_Goals': 102, 'Total_Wins': 34}\n",
      "{'_id': ObjectId('5dd17a50f03972ec07bd0d9b'), 'TeamName': 'Ingolstadt', 'Total_Goals': 101, 'Total_Wins': 34}\n",
      "{'_id': ObjectId('5dd17a50f03972ec07bd0d9c'), 'TeamName': 'Greuther Furth', 'Total_Goals': 100, 'Total_Wins': 34}\n",
      "{'_id': ObjectId('5dd17a50f03972ec07bd0d9d'), 'TeamName': 'Bayern Munich', 'Total_Goals': 99, 'Total_Wins': 34}\n",
      "{'_id': ObjectId('5dd17a50f03972ec07bd0d9e'), 'TeamName': 'Fortuna Dusseldorf', 'Total_Goals': 99, 'Total_Wins': 34}\n",
      "{'_id': ObjectId('5dd17a50f03972ec07bd0d9f'), 'TeamName': 'Fulham', 'Total_Goals': 99, 'Total_Wins': 38}\n",
      "{'_id': ObjectId('5dd17a50f03972ec07bd0da0'), 'TeamName': 'Mainz', 'Total_Goals': 98, 'Total_Wins': 34}\n",
      "{'_id': ObjectId('5dd17a50f03972ec07bd0da1'), 'TeamName': 'Hansa Rostock', 'Total_Goals': 97, 'Total_Wins': 34}\n",
      "{'_id': ObjectId('5dd17a50f03972ec07bd0da2'), 'TeamName': 'West Brom', 'Total_Goals': 97, 'Total_Wins': 38}\n",
      "{'_id': ObjectId('5dd17a50f03972ec07bd0da3'), 'TeamName': 'Bochum', 'Total_Goals': 96, 'Total_Wins': 34}\n",
      "{'_id': ObjectId('5dd17a50f03972ec07bd0da4'), 'TeamName': 'Leverkusen', 'Total_Goals': 96, 'Total_Wins': 34}\n",
      "{'_id': ObjectId('5dd17a50f03972ec07bd0da5'), 'TeamName': 'Swansea', 'Total_Goals': 95, 'Total_Wins': 38}\n",
      "{'_id': ObjectId('5dd17a50f03972ec07bd0da6'), 'TeamName': 'Karlsruhe', 'Total_Goals': 94, 'Total_Wins': 34}\n",
      "{'_id': ObjectId('5dd17a50f03972ec07bd0da7'), 'TeamName': 'Paderborn', 'Total_Goals': 93, 'Total_Wins': 34}\n",
      "{'_id': ObjectId('5dd17a50f03972ec07bd0da8'), 'TeamName': 'St Pauli', 'Total_Goals': 93, 'Total_Wins': 34}\n",
      "{'_id': ObjectId('5dd17a50f03972ec07bd0da9'), 'TeamName': 'Hamburg', 'Total_Goals': 92, 'Total_Wins': 34}\n",
      "{'_id': ObjectId('5dd17a50f03972ec07bd0daa'), 'TeamName': 'Sunderland', 'Total_Goals': 91, 'Total_Wins': 38}\n",
      "{'_id': ObjectId('5dd17a50f03972ec07bd0dab'), 'TeamName': 'Aston Villa', 'Total_Goals': 90, 'Total_Wins': 38}\n",
      "{'_id': ObjectId('5dd17a50f03972ec07bd0dac'), 'TeamName': 'Everton', 'Total_Goals': 90, 'Total_Wins': 38}\n",
      "{'_id': ObjectId('5dd17a50f03972ec07bd0dad'), 'TeamName': 'Duisburg', 'Total_Goals': 89, 'Total_Wins': 34}\n",
      "{'_id': ObjectId('5dd17a50f03972ec07bd0dae'), 'TeamName': 'Stoke', 'Total_Goals': 89, 'Total_Wins': 38}\n",
      "{'_id': ObjectId('5dd17a50f03972ec07bd0daf'), 'TeamName': 'Hoffenheim', 'Total_Goals': 88, 'Total_Wins': 34}\n",
      "{'_id': ObjectId('5dd17a50f03972ec07bd0db0'), 'TeamName': 'Liverpool', 'Total_Goals': 87, 'Total_Wins': 38}\n",
      "{'_id': ObjectId('5dd17a50f03972ec07bd0db1'), 'TeamName': 'Nurnberg', 'Total_Goals': 87, 'Total_Wins': 34}\n",
      "{'_id': ObjectId('5dd17a50f03972ec07bd0db2'), 'TeamName': 'Erzgebirge Aue', 'Total_Goals': 86, 'Total_Wins': 34}\n",
      "{'_id': ObjectId('5dd17a50f03972ec07bd0db3'), 'TeamName': 'Hannover', 'Total_Goals': 86, 'Total_Wins': 34}\n",
      "{'_id': ObjectId('5dd17a50f03972ec07bd0db4'), 'TeamName': 'Augsburg', 'Total_Goals': 85, 'Total_Wins': 34}\n",
      "{'_id': ObjectId('5dd17a50f03972ec07bd0db5'), 'TeamName': 'Cottbus', 'Total_Goals': 79, 'Total_Wins': 34}\n",
      "{'_id': ObjectId('5dd17a50f03972ec07bd0db6'), 'TeamName': 'Kaiserslautern', 'Total_Goals': 78, 'Total_Wins': 34}\n",
      "{'_id': ObjectId('5dd17a50f03972ec07bd0db7'), 'TeamName': 'Aachen', 'Total_Goals': 77, 'Total_Wins': 34}\n",
      "{'_id': ObjectId('5dd17a50f03972ec07bd0db8'), 'TeamName': \"M'gladbach\", 'Total_Goals': 73, 'Total_Wins': 34}\n",
      "{'_id': ObjectId('5dd17a50f03972ec07bd0db9'), 'TeamName': 'Braunschweig', 'Total_Goals': 72, 'Total_Wins': 34}\n"
     ]
    }
   ],
   "source": [
    "query_1 = soccer_collection.find({})\n",
    "for x in query_1:\n",
    "    print(x)"
   ]
  },
  {
   "cell_type": "code",
   "execution_count": 45,
   "metadata": {},
   "outputs": [
    {
     "data": {
      "text/plain": [
       "<pymongo.results.InsertManyResult at 0x10b436808>"
      ]
     },
     "execution_count": 45,
     "metadata": {},
     "output_type": "execute_result"
    }
   ],
   "source": [
    "# Or I could have saved to another result\n",
    "soccer_results = soccer_collection.insert_many(df.to_dict('records'))\n",
    "soccer_results"
   ]
  },
  {
   "cell_type": "code",
   "execution_count": null,
   "metadata": {},
   "outputs": [],
   "source": [
    "# Good website: https://www.datacamp.com/community/tutorials/introduction-mongodb-python"
   ]
  }
 ],
 "metadata": {
  "kernelspec": {
   "display_name": "Python 3",
   "language": "python",
   "name": "python3"
  },
  "language_info": {
   "codemirror_mode": {
    "name": "ipython",
    "version": 3
   },
   "file_extension": ".py",
   "mimetype": "text/x-python",
   "name": "python",
   "nbconvert_exporter": "python",
   "pygments_lexer": "ipython3",
   "version": "3.7.3"
  }
 },
 "nbformat": 4,
 "nbformat_minor": 2
}
